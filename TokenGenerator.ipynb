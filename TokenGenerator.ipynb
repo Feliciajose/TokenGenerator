{
  "nbformat": 4,
  "nbformat_minor": 0,
  "metadata": {
    "colab": {
      "provenance": [],
      "authorship_tag": "ABX9TyPhvY+NfTIGyu/F1fAkmYqO",
      "include_colab_link": true
    },
    "kernelspec": {
      "name": "python3",
      "display_name": "Python 3"
    },
    "language_info": {
      "name": "python"
    }
  },
  "cells": [
    {
      "cell_type": "markdown",
      "metadata": {
        "id": "view-in-github",
        "colab_type": "text"
      },
      "source": [
        "<a href=\"https://colab.research.google.com/github/Feliciajose/TokenGenerator/blob/main/TokenGenerator.ipynb\" target=\"_parent\"><img src=\"https://colab.research.google.com/assets/colab-badge.svg\" alt=\"Open In Colab\"/></a>"
      ]
    },
    {
      "cell_type": "code",
      "execution_count": null,
      "metadata": {
        "colab": {
          "base_uri": "https://localhost:8080/"
        },
        "id": "oelaSdrQZijN",
        "outputId": "e745db36-e002-4b2f-c802-edcf86742e49"
      },
      "outputs": [
        {
          "output_type": "stream",
          "name": "stdout",
          "text": [
            "Collecting qrcode[pil]\n",
            "  Downloading qrcode-8.0-py3-none-any.whl.metadata (17 kB)\n",
            "Requirement already satisfied: pillow>=9.1.0 in /usr/local/lib/python3.10/dist-packages (from qrcode[pil]) (10.4.0)\n",
            "Downloading qrcode-8.0-py3-none-any.whl (45 kB)\n",
            "\u001b[2K   \u001b[90m━━━━━━━━━━━━━━━━━━━━━━━━━━━━━━━━━━━━━━━━\u001b[0m \u001b[32m45.7/45.7 kB\u001b[0m \u001b[31m2.1 MB/s\u001b[0m eta \u001b[36m0:00:00\u001b[0m\n",
            "\u001b[?25hInstalling collected packages: qrcode\n",
            "Successfully installed qrcode-8.0\n"
          ]
        }
      ],
      "source": [
        "pip install qrcode[pil]"
      ]
    },
    {
      "cell_type": "code",
      "source": [
        "import qrcode\n",
        "def generate_event_token():\n",
        "    name = input(\"Enter your name: \")\n",
        "    roll_number = input(\"Enter your roll number: \")\n",
        "    department = input(\"Enter your department: \")\n",
        "    event_name = input(\"Enter the event name: \")\n",
        "    token_data = (\n",
        "        f\"Name: {name}\\n\"\n",
        "        f\"Roll Number: {roll_number}\\n\"\n",
        "        f\"Department: {department}\\n\"\n",
        "        f\"Event: {event_name}\\n\"\n",
        "        \"Status: Temporary Event ID\"\n",
        "    )\n",
        "    qr = qrcode.QRCode(\n",
        "        version=1,\n",
        "        error_correction=qrcode.constants.ERROR_CORRECT_L,\n",
        "        box_size=10,\n",
        "        border=4,\n",
        "    )\n",
        "    qr.add_data(token_data)\n",
        "    qr.make(fit=True)\n",
        "    qr_image = qr.make_image(fill=\"black\", back_color=\"white\")\n",
        "    file_name = f\"{name}_{event_name}_Token.png\"\n",
        "    qr_image.save(file_name)\n",
        "    print(f\"QR code generated and saved as {file_name}\")\n",
        "generate_event_token()"
      ],
      "metadata": {
        "colab": {
          "base_uri": "https://localhost:8080/"
        },
        "id": "uJEaXc9yaJG5",
        "outputId": "fa54e872-8a68-4663-959f-2e02f19550e0"
      },
      "execution_count": null,
      "outputs": [
        {
          "output_type": "stream",
          "name": "stdout",
          "text": [
            "Enter your name: Felicia.R.P\n",
            "Enter your roll number: 2022PCCCSE115\n",
            "Enter your department: Computer Science\n",
            "Enter the event name: Hackathon\n",
            "QR code generated and saved as Felicia.R.P_Hackathon_Token.png\n"
          ]
        }
      ]
    },
    {
      "cell_type": "code",
      "source": [],
      "metadata": {
        "id": "ddyWPVzOaVYI"
      },
      "execution_count": null,
      "outputs": []
    }
  ]
}